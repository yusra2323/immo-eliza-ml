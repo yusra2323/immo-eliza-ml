{
 "cells": [
  {
   "cell_type": "code",
   "execution_count": 1,
   "metadata": {},
   "outputs": [],
   "source": [
    "import pandas as pd\n",
    "import numpy as np\n",
    "from sklearn.model_selection import train_test_split\n",
    "from sklearn.linear_model import LinearRegression\n",
    "import sklearn.linear_model as skl_lm\n",
    "from sklearn.preprocessing import StandardScaler\n",
    "from sklearn.metrics import mean_absolute_error, mean_squared_error\n",
    "from sklearn.preprocessing import OneHotEncoder, StandardScaler\n",
    "from sklearn.impute import SimpleImputer\n",
    "\n"
   ]
  },
  {
   "cell_type": "code",
   "execution_count": 2,
   "metadata": {},
   "outputs": [],
   "source": [
    "properties = pd.read_csv(\"data/raw/properties.csv\")"
   ]
  },
  {
   "cell_type": "code",
   "execution_count": 3,
   "metadata": {},
   "outputs": [
    {
     "name": "stdout",
     "output_type": "stream",
     "text": [
      "<class 'pandas.core.frame.DataFrame'>\n",
      "RangeIndex: 75511 entries, 0 to 75510\n",
      "Data columns (total 30 columns):\n",
      " #   Column                          Non-Null Count  Dtype  \n",
      "---  ------                          --------------  -----  \n",
      " 0   id                              75511 non-null  int64  \n",
      " 1   price                           75511 non-null  float64\n",
      " 2   property_type                   75511 non-null  object \n",
      " 3   subproperty_type                75511 non-null  object \n",
      " 4   region                          75511 non-null  object \n",
      " 5   province                        75511 non-null  object \n",
      " 6   locality                        75511 non-null  object \n",
      " 7   zip_code                        75511 non-null  int64  \n",
      " 8   latitude                        61413 non-null  float64\n",
      " 9   longitude                       61413 non-null  float64\n",
      " 10  construction_year               42120 non-null  float64\n",
      " 11  total_area_sqm                  67896 non-null  float64\n",
      " 12  surface_land_sqm                39255 non-null  float64\n",
      " 13  nbr_frontages                   49165 non-null  float64\n",
      " 14  nbr_bedrooms                    75511 non-null  float64\n",
      " 15  equipped_kitchen                75511 non-null  object \n",
      " 16  fl_furnished                    75511 non-null  int64  \n",
      " 17  fl_open_fire                    75511 non-null  int64  \n",
      " 18  fl_terrace                      75511 non-null  int64  \n",
      " 19  terrace_sqm                     62371 non-null  float64\n",
      " 20  fl_garden                       75511 non-null  int64  \n",
      " 21  garden_sqm                      72572 non-null  float64\n",
      " 22  fl_swimming_pool                75511 non-null  int64  \n",
      " 23  fl_floodzone                    75511 non-null  int64  \n",
      " 24  state_building                  75511 non-null  object \n",
      " 25  primary_energy_consumption_sqm  48944 non-null  float64\n",
      " 26  epc                             75511 non-null  object \n",
      " 27  heating_type                    75511 non-null  object \n",
      " 28  fl_double_glazing               75511 non-null  int64  \n",
      " 29  cadastral_income                30544 non-null  float64\n",
      "dtypes: float64(12), int64(9), object(9)\n",
      "memory usage: 17.3+ MB\n"
     ]
    }
   ],
   "source": [
    "properties.info()"
   ]
  },
  {
   "cell_type": "code",
   "execution_count": 4,
   "metadata": {},
   "outputs": [
    {
     "name": "stdout",
     "output_type": "stream",
     "text": [
      "id                                 0.000000\n",
      "price                              0.000000\n",
      "property_type                      0.000000\n",
      "subproperty_type                   0.000000\n",
      "region                             0.000000\n",
      "province                           0.000000\n",
      "locality                           0.000000\n",
      "zip_code                           0.000000\n",
      "latitude                          18.670128\n",
      "longitude                         18.670128\n",
      "construction_year                 44.220047\n",
      "total_area_sqm                    10.084623\n",
      "surface_land_sqm                  48.014197\n",
      "nbr_frontages                     34.890281\n",
      "nbr_bedrooms                       0.000000\n",
      "equipped_kitchen                   0.000000\n",
      "fl_furnished                       0.000000\n",
      "fl_open_fire                       0.000000\n",
      "fl_terrace                         0.000000\n",
      "terrace_sqm                       17.401438\n",
      "fl_garden                          0.000000\n",
      "garden_sqm                         3.892148\n",
      "fl_swimming_pool                   0.000000\n",
      "fl_floodzone                       0.000000\n",
      "state_building                     0.000000\n",
      "primary_energy_consumption_sqm    35.182953\n",
      "epc                                0.000000\n",
      "heating_type                       0.000000\n",
      "fl_double_glazing                  0.000000\n",
      "cadastral_income                  59.550264\n",
      "dtype: float64\n"
     ]
    }
   ],
   "source": [
    "#Handling Missing Values\n",
    "\n",
    "# Calculate the proportion of missing values per column\n",
    "missing_proportion = properties.isnull().mean()\n",
    "\n",
    "# Display the result as a percentage\n",
    "missing_percentage = missing_proportion * 100\n",
    "print(missing_percentage)"
   ]
  },
  {
   "cell_type": "code",
   "execution_count": 5,
   "metadata": {},
   "outputs": [],
   "source": [
    "properties = properties.drop(columns=[\"nbr_frontages\", \"surface_land_sqm\", \n",
    "                                      \"fl_terrace\", \"fl_garden\", \"epc\",\"fl_open_fire\",\"fl_swimming_pool\",\n",
    "                                      \"heating_type\", \"cadastral_income\",\"longitude\",\"latitude\"], axis=1)\n",
    "\n"
   ]
  },
  {
   "cell_type": "code",
   "execution_count": 6,
   "metadata": {},
   "outputs": [],
   "source": [
    "properties = properties.dropna()"
   ]
  },
  {
   "cell_type": "code",
   "execution_count": 7,
   "metadata": {},
   "outputs": [
    {
     "data": {
      "text/plain": [
       "id                                    0\n",
       "price                                 0\n",
       "property_type                         0\n",
       "subproperty_type                      0\n",
       "region                                0\n",
       "province                              0\n",
       "locality                              0\n",
       "zip_code                              0\n",
       "construction_year                     0\n",
       "total_area_sqm                        0\n",
       "nbr_bedrooms                        590\n",
       "equipped_kitchen                      0\n",
       "fl_furnished                      20217\n",
       "terrace_sqm                        9694\n",
       "garden_sqm                        15558\n",
       "fl_floodzone                      12480\n",
       "state_building                        0\n",
       "primary_energy_consumption_sqm      880\n",
       "fl_double_glazing                  5090\n",
       "dtype: int64"
      ]
     },
     "execution_count": 7,
     "metadata": {},
     "output_type": "execute_result"
    }
   ],
   "source": [
    "(properties==0).sum()"
   ]
  },
  {
   "cell_type": "code",
   "execution_count": 8,
   "metadata": {},
   "outputs": [],
   "source": [
    "#properties = properties.drop(columns=[\"state_building\"], axis=1)"
   ]
  },
  {
   "cell_type": "code",
   "execution_count": 9,
   "metadata": {},
   "outputs": [],
   "source": [
    "properties.construction_year = properties.construction_year.astype(\"int64\")\n",
    "properties.nbr_bedrooms = properties.nbr_bedrooms.astype(\"int64\")"
   ]
  },
  {
   "cell_type": "code",
   "execution_count": 10,
   "metadata": {},
   "outputs": [
    {
     "data": {
      "text/plain": [
       "(20758, 19)"
      ]
     },
     "execution_count": 10,
     "metadata": {},
     "output_type": "execute_result"
    }
   ],
   "source": [
    "properties.shape"
   ]
  },
  {
   "cell_type": "code",
   "execution_count": 11,
   "metadata": {},
   "outputs": [
    {
     "data": {
      "text/html": [
       "<div>\n",
       "<style scoped>\n",
       "    .dataframe tbody tr th:only-of-type {\n",
       "        vertical-align: middle;\n",
       "    }\n",
       "\n",
       "    .dataframe tbody tr th {\n",
       "        vertical-align: top;\n",
       "    }\n",
       "\n",
       "    .dataframe thead th {\n",
       "        text-align: right;\n",
       "    }\n",
       "</style>\n",
       "<table border=\"1\" class=\"dataframe\">\n",
       "  <thead>\n",
       "    <tr style=\"text-align: right;\">\n",
       "      <th></th>\n",
       "      <th>id</th>\n",
       "      <th>price</th>\n",
       "      <th>property_type</th>\n",
       "      <th>subproperty_type</th>\n",
       "      <th>region</th>\n",
       "      <th>province</th>\n",
       "      <th>locality</th>\n",
       "      <th>zip_code</th>\n",
       "      <th>construction_year</th>\n",
       "      <th>total_area_sqm</th>\n",
       "      <th>nbr_bedrooms</th>\n",
       "      <th>equipped_kitchen</th>\n",
       "      <th>fl_furnished</th>\n",
       "      <th>terrace_sqm</th>\n",
       "      <th>garden_sqm</th>\n",
       "      <th>fl_floodzone</th>\n",
       "      <th>state_building</th>\n",
       "      <th>primary_energy_consumption_sqm</th>\n",
       "      <th>fl_double_glazing</th>\n",
       "    </tr>\n",
       "  </thead>\n",
       "  <tbody>\n",
       "    <tr>\n",
       "      <th>0</th>\n",
       "      <td>34221000</td>\n",
       "      <td>225000.0</td>\n",
       "      <td>APARTMENT</td>\n",
       "      <td>APARTMENT</td>\n",
       "      <td>Flanders</td>\n",
       "      <td>Antwerp</td>\n",
       "      <td>Antwerp</td>\n",
       "      <td>2050</td>\n",
       "      <td>1963</td>\n",
       "      <td>100.0</td>\n",
       "      <td>2</td>\n",
       "      <td>INSTALLED</td>\n",
       "      <td>0</td>\n",
       "      <td>5.0</td>\n",
       "      <td>0.0</td>\n",
       "      <td>0</td>\n",
       "      <td>MISSING</td>\n",
       "      <td>231.0</td>\n",
       "      <td>1</td>\n",
       "    </tr>\n",
       "    <tr>\n",
       "      <th>3</th>\n",
       "      <td>58496000</td>\n",
       "      <td>501000.0</td>\n",
       "      <td>HOUSE</td>\n",
       "      <td>HOUSE</td>\n",
       "      <td>Flanders</td>\n",
       "      <td>Antwerp</td>\n",
       "      <td>Turnhout</td>\n",
       "      <td>2275</td>\n",
       "      <td>2024</td>\n",
       "      <td>187.0</td>\n",
       "      <td>3</td>\n",
       "      <td>MISSING</td>\n",
       "      <td>0</td>\n",
       "      <td>0.0</td>\n",
       "      <td>0.0</td>\n",
       "      <td>1</td>\n",
       "      <td>MISSING</td>\n",
       "      <td>99.0</td>\n",
       "      <td>0</td>\n",
       "    </tr>\n",
       "    <tr>\n",
       "      <th>4</th>\n",
       "      <td>48727000</td>\n",
       "      <td>982700.0</td>\n",
       "      <td>APARTMENT</td>\n",
       "      <td>DUPLEX</td>\n",
       "      <td>Wallonia</td>\n",
       "      <td>Walloon Brabant</td>\n",
       "      <td>Nivelles</td>\n",
       "      <td>1410</td>\n",
       "      <td>2022</td>\n",
       "      <td>169.0</td>\n",
       "      <td>2</td>\n",
       "      <td>HYPER_EQUIPPED</td>\n",
       "      <td>0</td>\n",
       "      <td>20.0</td>\n",
       "      <td>142.0</td>\n",
       "      <td>0</td>\n",
       "      <td>AS_NEW</td>\n",
       "      <td>19.0</td>\n",
       "      <td>0</td>\n",
       "    </tr>\n",
       "    <tr>\n",
       "      <th>9</th>\n",
       "      <td>58028000</td>\n",
       "      <td>3500000.0</td>\n",
       "      <td>HOUSE</td>\n",
       "      <td>VILLA</td>\n",
       "      <td>Flanders</td>\n",
       "      <td>West Flanders</td>\n",
       "      <td>Brugge</td>\n",
       "      <td>8300</td>\n",
       "      <td>1935</td>\n",
       "      <td>277.0</td>\n",
       "      <td>6</td>\n",
       "      <td>MISSING</td>\n",
       "      <td>0</td>\n",
       "      <td>0.0</td>\n",
       "      <td>0.0</td>\n",
       "      <td>0</td>\n",
       "      <td>TO_RENOVATE</td>\n",
       "      <td>394.0</td>\n",
       "      <td>0</td>\n",
       "    </tr>\n",
       "    <tr>\n",
       "      <th>20</th>\n",
       "      <td>10079000</td>\n",
       "      <td>549000.0</td>\n",
       "      <td>HOUSE</td>\n",
       "      <td>VILLA</td>\n",
       "      <td>Flanders</td>\n",
       "      <td>East Flanders</td>\n",
       "      <td>Dendermonde</td>\n",
       "      <td>9240</td>\n",
       "      <td>2001</td>\n",
       "      <td>185.0</td>\n",
       "      <td>4</td>\n",
       "      <td>HYPER_EQUIPPED</td>\n",
       "      <td>0</td>\n",
       "      <td>0.0</td>\n",
       "      <td>0.0</td>\n",
       "      <td>0</td>\n",
       "      <td>AS_NEW</td>\n",
       "      <td>142.0</td>\n",
       "      <td>1</td>\n",
       "    </tr>\n",
       "  </tbody>\n",
       "</table>\n",
       "</div>"
      ],
      "text/plain": [
       "          id      price property_type subproperty_type    region  \\\n",
       "0   34221000   225000.0     APARTMENT        APARTMENT  Flanders   \n",
       "3   58496000   501000.0         HOUSE            HOUSE  Flanders   \n",
       "4   48727000   982700.0     APARTMENT           DUPLEX  Wallonia   \n",
       "9   58028000  3500000.0         HOUSE            VILLA  Flanders   \n",
       "20  10079000   549000.0         HOUSE            VILLA  Flanders   \n",
       "\n",
       "           province     locality  zip_code  construction_year  total_area_sqm  \\\n",
       "0           Antwerp      Antwerp      2050               1963           100.0   \n",
       "3           Antwerp     Turnhout      2275               2024           187.0   \n",
       "4   Walloon Brabant     Nivelles      1410               2022           169.0   \n",
       "9     West Flanders       Brugge      8300               1935           277.0   \n",
       "20    East Flanders  Dendermonde      9240               2001           185.0   \n",
       "\n",
       "    nbr_bedrooms equipped_kitchen  fl_furnished  terrace_sqm  garden_sqm  \\\n",
       "0              2        INSTALLED             0          5.0         0.0   \n",
       "3              3          MISSING             0          0.0         0.0   \n",
       "4              2   HYPER_EQUIPPED             0         20.0       142.0   \n",
       "9              6          MISSING             0          0.0         0.0   \n",
       "20             4   HYPER_EQUIPPED             0          0.0         0.0   \n",
       "\n",
       "    fl_floodzone state_building  primary_energy_consumption_sqm  \\\n",
       "0              0        MISSING                           231.0   \n",
       "3              1        MISSING                            99.0   \n",
       "4              0         AS_NEW                            19.0   \n",
       "9              0    TO_RENOVATE                           394.0   \n",
       "20             0         AS_NEW                           142.0   \n",
       "\n",
       "    fl_double_glazing  \n",
       "0                   1  \n",
       "3                   0  \n",
       "4                   0  \n",
       "9                   0  \n",
       "20                  1  "
      ]
     },
     "execution_count": 11,
     "metadata": {},
     "output_type": "execute_result"
    }
   ],
   "source": [
    "# Displays the first 5 rows\n",
    "\n",
    "properties.head()"
   ]
  },
  {
   "cell_type": "code",
   "execution_count": 12,
   "metadata": {},
   "outputs": [
    {
     "data": {
      "text/html": [
       "<div>\n",
       "<style scoped>\n",
       "    .dataframe tbody tr th:only-of-type {\n",
       "        vertical-align: middle;\n",
       "    }\n",
       "\n",
       "    .dataframe tbody tr th {\n",
       "        vertical-align: top;\n",
       "    }\n",
       "\n",
       "    .dataframe thead th {\n",
       "        text-align: right;\n",
       "    }\n",
       "</style>\n",
       "<table border=\"1\" class=\"dataframe\">\n",
       "  <thead>\n",
       "    <tr style=\"text-align: right;\">\n",
       "      <th></th>\n",
       "      <th>count</th>\n",
       "      <th>mean</th>\n",
       "      <th>std</th>\n",
       "      <th>min</th>\n",
       "      <th>25%</th>\n",
       "      <th>50%</th>\n",
       "      <th>75%</th>\n",
       "      <th>max</th>\n",
       "    </tr>\n",
       "  </thead>\n",
       "  <tbody>\n",
       "    <tr>\n",
       "      <th>id</th>\n",
       "      <td>20758.0</td>\n",
       "      <td>3.985946e+07</td>\n",
       "      <td>2.288478e+07</td>\n",
       "      <td>2000.0</td>\n",
       "      <td>20232250.00</td>\n",
       "      <td>39800000.0</td>\n",
       "      <td>59707000.0</td>\n",
       "      <td>79482000.0</td>\n",
       "    </tr>\n",
       "    <tr>\n",
       "      <th>price</th>\n",
       "      <td>20758.0</td>\n",
       "      <td>4.517904e+05</td>\n",
       "      <td>4.686182e+05</td>\n",
       "      <td>77000.0</td>\n",
       "      <td>239900.00</td>\n",
       "      <td>330000.0</td>\n",
       "      <td>489000.0</td>\n",
       "      <td>11450000.0</td>\n",
       "    </tr>\n",
       "    <tr>\n",
       "      <th>zip_code</th>\n",
       "      <td>20758.0</td>\n",
       "      <td>4.699065e+03</td>\n",
       "      <td>3.108111e+03</td>\n",
       "      <td>1000.0</td>\n",
       "      <td>1850.00</td>\n",
       "      <td>3800.0</td>\n",
       "      <td>8300.0</td>\n",
       "      <td>9992.0</td>\n",
       "    </tr>\n",
       "    <tr>\n",
       "      <th>construction_year</th>\n",
       "      <td>20758.0</td>\n",
       "      <td>1.974309e+03</td>\n",
       "      <td>4.086762e+01</td>\n",
       "      <td>1759.0</td>\n",
       "      <td>1954.00</td>\n",
       "      <td>1976.0</td>\n",
       "      <td>2010.0</td>\n",
       "      <td>2024.0</td>\n",
       "    </tr>\n",
       "    <tr>\n",
       "      <th>total_area_sqm</th>\n",
       "      <td>20758.0</td>\n",
       "      <td>1.606949e+02</td>\n",
       "      <td>1.310233e+02</td>\n",
       "      <td>12.0</td>\n",
       "      <td>89.25</td>\n",
       "      <td>126.0</td>\n",
       "      <td>192.0</td>\n",
       "      <td>5000.0</td>\n",
       "    </tr>\n",
       "    <tr>\n",
       "      <th>nbr_bedrooms</th>\n",
       "      <td>20758.0</td>\n",
       "      <td>2.800607e+00</td>\n",
       "      <td>1.762282e+00</td>\n",
       "      <td>0.0</td>\n",
       "      <td>2.00</td>\n",
       "      <td>3.0</td>\n",
       "      <td>3.0</td>\n",
       "      <td>100.0</td>\n",
       "    </tr>\n",
       "    <tr>\n",
       "      <th>fl_furnished</th>\n",
       "      <td>20758.0</td>\n",
       "      <td>2.606224e-02</td>\n",
       "      <td>1.593243e-01</td>\n",
       "      <td>0.0</td>\n",
       "      <td>0.00</td>\n",
       "      <td>0.0</td>\n",
       "      <td>0.0</td>\n",
       "      <td>1.0</td>\n",
       "    </tr>\n",
       "    <tr>\n",
       "      <th>terrace_sqm</th>\n",
       "      <td>20758.0</td>\n",
       "      <td>1.370012e+01</td>\n",
       "      <td>4.168494e+01</td>\n",
       "      <td>0.0</td>\n",
       "      <td>0.00</td>\n",
       "      <td>3.0</td>\n",
       "      <td>17.0</td>\n",
       "      <td>3466.0</td>\n",
       "    </tr>\n",
       "    <tr>\n",
       "      <th>garden_sqm</th>\n",
       "      <td>20758.0</td>\n",
       "      <td>1.736630e+02</td>\n",
       "      <td>1.279607e+03</td>\n",
       "      <td>0.0</td>\n",
       "      <td>0.00</td>\n",
       "      <td>0.0</td>\n",
       "      <td>1.0</td>\n",
       "      <td>65000.0</td>\n",
       "    </tr>\n",
       "    <tr>\n",
       "      <th>fl_floodzone</th>\n",
       "      <td>20758.0</td>\n",
       "      <td>3.987860e-01</td>\n",
       "      <td>4.896604e-01</td>\n",
       "      <td>0.0</td>\n",
       "      <td>0.00</td>\n",
       "      <td>0.0</td>\n",
       "      <td>1.0</td>\n",
       "      <td>1.0</td>\n",
       "    </tr>\n",
       "    <tr>\n",
       "      <th>primary_energy_consumption_sqm</th>\n",
       "      <td>20758.0</td>\n",
       "      <td>4.557638e+02</td>\n",
       "      <td>2.084632e+04</td>\n",
       "      <td>-99.0</td>\n",
       "      <td>112.00</td>\n",
       "      <td>211.0</td>\n",
       "      <td>354.0</td>\n",
       "      <td>2994164.0</td>\n",
       "    </tr>\n",
       "    <tr>\n",
       "      <th>fl_double_glazing</th>\n",
       "      <td>20758.0</td>\n",
       "      <td>7.547933e-01</td>\n",
       "      <td>4.302200e-01</td>\n",
       "      <td>0.0</td>\n",
       "      <td>1.00</td>\n",
       "      <td>1.0</td>\n",
       "      <td>1.0</td>\n",
       "      <td>1.0</td>\n",
       "    </tr>\n",
       "  </tbody>\n",
       "</table>\n",
       "</div>"
      ],
      "text/plain": [
       "                                  count          mean           std      min  \\\n",
       "id                              20758.0  3.985946e+07  2.288478e+07   2000.0   \n",
       "price                           20758.0  4.517904e+05  4.686182e+05  77000.0   \n",
       "zip_code                        20758.0  4.699065e+03  3.108111e+03   1000.0   \n",
       "construction_year               20758.0  1.974309e+03  4.086762e+01   1759.0   \n",
       "total_area_sqm                  20758.0  1.606949e+02  1.310233e+02     12.0   \n",
       "nbr_bedrooms                    20758.0  2.800607e+00  1.762282e+00      0.0   \n",
       "fl_furnished                    20758.0  2.606224e-02  1.593243e-01      0.0   \n",
       "terrace_sqm                     20758.0  1.370012e+01  4.168494e+01      0.0   \n",
       "garden_sqm                      20758.0  1.736630e+02  1.279607e+03      0.0   \n",
       "fl_floodzone                    20758.0  3.987860e-01  4.896604e-01      0.0   \n",
       "primary_energy_consumption_sqm  20758.0  4.557638e+02  2.084632e+04    -99.0   \n",
       "fl_double_glazing               20758.0  7.547933e-01  4.302200e-01      0.0   \n",
       "\n",
       "                                        25%         50%         75%  \\\n",
       "id                              20232250.00  39800000.0  59707000.0   \n",
       "price                             239900.00    330000.0    489000.0   \n",
       "zip_code                            1850.00      3800.0      8300.0   \n",
       "construction_year                   1954.00      1976.0      2010.0   \n",
       "total_area_sqm                        89.25       126.0       192.0   \n",
       "nbr_bedrooms                           2.00         3.0         3.0   \n",
       "fl_furnished                           0.00         0.0         0.0   \n",
       "terrace_sqm                            0.00         3.0        17.0   \n",
       "garden_sqm                             0.00         0.0         1.0   \n",
       "fl_floodzone                           0.00         0.0         1.0   \n",
       "primary_energy_consumption_sqm       112.00       211.0       354.0   \n",
       "fl_double_glazing                      1.00         1.0         1.0   \n",
       "\n",
       "                                       max  \n",
       "id                              79482000.0  \n",
       "price                           11450000.0  \n",
       "zip_code                            9992.0  \n",
       "construction_year                   2024.0  \n",
       "total_area_sqm                      5000.0  \n",
       "nbr_bedrooms                         100.0  \n",
       "fl_furnished                           1.0  \n",
       "terrace_sqm                         3466.0  \n",
       "garden_sqm                         65000.0  \n",
       "fl_floodzone                           1.0  \n",
       "primary_energy_consumption_sqm   2994164.0  \n",
       "fl_double_glazing                      1.0  "
      ]
     },
     "execution_count": 12,
     "metadata": {},
     "output_type": "execute_result"
    }
   ],
   "source": [
    "properties.describe().T"
   ]
  },
  {
   "cell_type": "code",
   "execution_count": 13,
   "metadata": {},
   "outputs": [
    {
     "data": {
      "text/plain": [
       "id                                  int64\n",
       "price                             float64\n",
       "property_type                      object\n",
       "subproperty_type                   object\n",
       "region                             object\n",
       "province                           object\n",
       "locality                           object\n",
       "zip_code                            int64\n",
       "construction_year                   int64\n",
       "total_area_sqm                    float64\n",
       "nbr_bedrooms                        int64\n",
       "equipped_kitchen                   object\n",
       "fl_furnished                        int64\n",
       "terrace_sqm                       float64\n",
       "garden_sqm                        float64\n",
       "fl_floodzone                        int64\n",
       "state_building                     object\n",
       "primary_energy_consumption_sqm    float64\n",
       "fl_double_glazing                   int64\n",
       "dtype: object"
      ]
     },
     "execution_count": 13,
     "metadata": {},
     "output_type": "execute_result"
    }
   ],
   "source": [
    "properties.dtypes"
   ]
  },
  {
   "cell_type": "code",
   "execution_count": 14,
   "metadata": {},
   "outputs": [],
   "source": [
    "# Data preprocessing"
   ]
  },
  {
   "cell_type": "code",
   "execution_count": 15,
   "metadata": {},
   "outputs": [
    {
     "name": "stdout",
     "output_type": "stream",
     "text": [
      "Categorical variables: 7\n",
      "Integer variables: 0\n",
      "Float variables: 5\n"
     ]
    }
   ],
   "source": [
    "#we categorize the features depending on their datatype (int, float, object) and then calculate the number of them. \n",
    "obj = (properties.dtypes == 'object')\n",
    "property_type = list(obj[obj].index)\n",
    "print(\"Categorical variables:\",len(property_type))\n",
    "\n",
    "int_ = (properties.dtypes == 'int')\n",
    "zip_code = list(int_[int_].index)\n",
    "print(\"Integer variables:\",len(zip_code))\n",
    "\n",
    "fl = (properties.dtypes == 'float')\n",
    "price  = list(fl[fl].index)\n",
    "print(\"Float variables:\",len(price ))\n"
   ]
  },
  {
   "cell_type": "code",
   "execution_count": 16,
   "metadata": {},
   "outputs": [],
   "source": [
    "imputer=SimpleImputer(strategy='mean')\n",
    "properties['construction_year']=imputer.fit_transform(properties[['construction_year']])"
   ]
  },
  {
   "cell_type": "code",
   "execution_count": 17,
   "metadata": {},
   "outputs": [
    {
     "name": "stderr",
     "output_type": "stream",
     "text": [
      "C:\\Users\\yusra\\AppData\\Local\\Temp\\ipykernel_6916\\4270503716.py:6: FutureWarning: Downcasting behavior in `replace` is deprecated and will be removed in a future version. To retain the old behavior, explicitly call `result.infer_objects(copy=False)`. To opt-in to the future behavior, set `pd.set_option('future.no_silent_downcasting', True)`\n",
      "  ord_house_data['nr_equipped_kitchen']=ord_house_data['equipped_kitchen'].replace(['SEMI_EQUIPPED','USA_SEMI_EQUIPPED','HYPER_EQUIPPED','USA_HYPER_EQUIPPED','INSTALLED','USA_INSTALLED','USA_UNINSTALLED','UNINSTALLED','NOT_INSTALLED'],[3,3,4,4,2,2,1,1,1])\n",
      "C:\\Users\\yusra\\AppData\\Local\\Temp\\ipykernel_6916\\4270503716.py:12: FutureWarning: Downcasting behavior in `replace` is deprecated and will be removed in a future version. To retain the old behavior, explicitly call `result.infer_objects(copy=False)`. To opt-in to the future behavior, set `pd.set_option('future.no_silent_downcasting', True)`\n",
      "  ord_house_data['nr_state_building']=ord_house_data['state_building'].replace(['AS_NEW','JUST_RENOVATED','GOOD','TO_BE_DONE_UP','TO_RESTORE','TO_RENOVATE'],[5,5,4,3,2,1])\n"
     ]
    }
   ],
   "source": [
    "#Transforming data into Ordinal\n",
    "#Cleaning existing kitchen data\n",
    "ord_house_data= properties.drop(properties[properties['equipped_kitchen'] == 'MISSING'].index)\n",
    "\n",
    "#Assigning numeric values to kitchen categories\n",
    "ord_house_data['nr_equipped_kitchen']=ord_house_data['equipped_kitchen'].replace(['SEMI_EQUIPPED','USA_SEMI_EQUIPPED','HYPER_EQUIPPED','USA_HYPER_EQUIPPED','INSTALLED','USA_INSTALLED','USA_UNINSTALLED','UNINSTALLED','NOT_INSTALLED'],[3,3,4,4,2,2,1,1,1])\n",
    "\n",
    "#Cleaning existing state of building data\n",
    "ord_house_data= ord_house_data.drop(ord_house_data[ord_house_data['state_building'] == 'MISSING'].index)\n",
    "\n",
    "#Assigning numeric values to state of building categories\n",
    "ord_house_data['nr_state_building']=ord_house_data['state_building'].replace(['AS_NEW','JUST_RENOVATED','GOOD','TO_BE_DONE_UP','TO_RESTORE','TO_RENOVATE'],[5,5,4,3,2,1])"
   ]
  },
  {
   "cell_type": "code",
   "execution_count": 18,
   "metadata": {},
   "outputs": [],
   "source": [
    "\n",
    "# Handling missing data\n",
    "properties.fillna('MISSING', inplace=True)\n",
    "\n",
    "# Convert categorical variables  into numerical values using one-hot encoding\n",
    "\n",
    "properties = pd.get_dummies(properties, columns=['property_type','locality','state_building','subproperty_type','region','province'], drop_first=True)\n",
    "\n",
    "\n"
   ]
  },
  {
   "cell_type": "code",
   "execution_count": 19,
   "metadata": {},
   "outputs": [],
   "source": [
    "# Numeric data: fill NaNs with the mean of the column\n",
    "\n",
    "properties['terrace_sqm'] = properties['terrace_sqm'].fillna(properties['terrace_sqm'].mean())\n",
    "\n",
    "properties['garden_sqm'] = properties['garden_sqm'].fillna(properties['garden_sqm'].mean())\n",
    "\n",
    "properties['primary_energy_consumption_sqm'] = properties['primary_energy_consumption_sqm'].fillna(properties['primary_energy_consumption_sqm'].mean())\n",
    "\n",
    "\n",
    "\n"
   ]
  },
  {
   "cell_type": "code",
   "execution_count": 20,
   "metadata": {},
   "outputs": [],
   "source": [
    "#Feature scaling ensures that features are on the same scale, which is especially important for distance-based algorithms and those sensitive to magnitude."
   ]
  },
  {
   "cell_type": "code",
   "execution_count": 21,
   "metadata": {},
   "outputs": [],
   "source": [
    "import pandas as pd\n",
    "from sklearn.preprocessing import StandardScaler\n",
    "\n",
    "\n",
    "# Scaling numerical features\n",
    "scaler = StandardScaler()\n",
    "properties[['total_area_sqm', 'terrace_sqm','garden_sqm']] = scaler.fit_transform(properties[['total_area_sqm', 'terrace_sqm','garden_sqm']])\n"
   ]
  },
  {
   "cell_type": "code",
   "execution_count": 22,
   "metadata": {},
   "outputs": [
    {
     "data": {
      "text/html": [
       "<div>\n",
       "<style scoped>\n",
       "    .dataframe tbody tr th:only-of-type {\n",
       "        vertical-align: middle;\n",
       "    }\n",
       "\n",
       "    .dataframe tbody tr th {\n",
       "        vertical-align: top;\n",
       "    }\n",
       "\n",
       "    .dataframe thead th {\n",
       "        text-align: right;\n",
       "    }\n",
       "</style>\n",
       "<table border=\"1\" class=\"dataframe\">\n",
       "  <thead>\n",
       "    <tr style=\"text-align: right;\">\n",
       "      <th></th>\n",
       "      <th>price</th>\n",
       "    </tr>\n",
       "  </thead>\n",
       "  <tbody>\n",
       "    <tr>\n",
       "      <th>count</th>\n",
       "      <td>2.075800e+04</td>\n",
       "    </tr>\n",
       "    <tr>\n",
       "      <th>mean</th>\n",
       "      <td>4.517904e+05</td>\n",
       "    </tr>\n",
       "    <tr>\n",
       "      <th>std</th>\n",
       "      <td>4.686182e+05</td>\n",
       "    </tr>\n",
       "    <tr>\n",
       "      <th>min</th>\n",
       "      <td>7.700000e+04</td>\n",
       "    </tr>\n",
       "    <tr>\n",
       "      <th>25%</th>\n",
       "      <td>2.399000e+05</td>\n",
       "    </tr>\n",
       "    <tr>\n",
       "      <th>50%</th>\n",
       "      <td>3.300000e+05</td>\n",
       "    </tr>\n",
       "    <tr>\n",
       "      <th>75%</th>\n",
       "      <td>4.890000e+05</td>\n",
       "    </tr>\n",
       "    <tr>\n",
       "      <th>max</th>\n",
       "      <td>1.145000e+07</td>\n",
       "    </tr>\n",
       "  </tbody>\n",
       "</table>\n",
       "</div>"
      ],
      "text/plain": [
       "              price\n",
       "count  2.075800e+04\n",
       "mean   4.517904e+05\n",
       "std    4.686182e+05\n",
       "min    7.700000e+04\n",
       "25%    2.399000e+05\n",
       "50%    3.300000e+05\n",
       "75%    4.890000e+05\n",
       "max    1.145000e+07"
      ]
     },
     "execution_count": 22,
     "metadata": {},
     "output_type": "execute_result"
    }
   ],
   "source": [
    "properties[['price']].describe()"
   ]
  },
  {
   "cell_type": "code",
   "execution_count": 28,
   "metadata": {},
   "outputs": [
    {
     "data": {
      "text/plain": [
       "array([[<Axes: title={'center': 'id'}>,\n",
       "        <Axes: title={'center': 'price'}>,\n",
       "        <Axes: title={'center': 'zip_code'}>,\n",
       "        <Axes: title={'center': 'construction_year'}>],\n",
       "       [<Axes: title={'center': 'total_area_sqm'}>,\n",
       "        <Axes: title={'center': 'nbr_bedrooms'}>,\n",
       "        <Axes: title={'center': 'fl_furnished'}>,\n",
       "        <Axes: title={'center': 'terrace_sqm'}>],\n",
       "       [<Axes: title={'center': 'garden_sqm'}>,\n",
       "        <Axes: title={'center': 'fl_floodzone'}>,\n",
       "        <Axes: title={'center': 'primary_energy_consumption_sqm'}>,\n",
       "        <Axes: title={'center': 'fl_double_glazing'}>],\n",
       "       [<Axes: title={'center': 'price_per_sqm'}>, <Axes: >, <Axes: >,\n",
       "        <Axes: >]], dtype=object)"
      ]
     },
     "execution_count": 28,
     "metadata": {},
     "output_type": "execute_result"
    },
    {
     "data": {
      "image/png": "[encoded data removed]",
      "text/plain": [
       "<Figure size 2000x1500 with 16 Axes>"
      ]
     },
     "metadata": {},
     "output_type": "display_data"
    }
   ],
   "source": [
    "properties.hist(bins=50, figsize=(20,15))"
   ]
  },
  {
   "cell_type": "code",
   "execution_count": 23,
   "metadata": {},
   "outputs": [],
   "source": [
    "#Feature Engineering (Optional)\n",
    "\n",
    "#Create new features if they add meaningful insights. Here are some examples:\n",
    "#Price per square meter: Divide price by area if the target is price."
   ]
  },
  {
   "cell_type": "code",
   "execution_count": 24,
   "metadata": {},
   "outputs": [],
   "source": [
    "import seaborn as sns\n",
    "import numpy as np\n",
    "\n",
    "properties['price_per_sqm'] = properties['price'] / properties['total_area_sqm']\n",
    "properties.price_per_sqm = properties.price_per_sqm.round(2)\n"
   ]
  },
  {
   "cell_type": "code",
   "execution_count": 25,
   "metadata": {},
   "outputs": [
    {
     "name": "stdout",
     "output_type": "stream",
     "text": [
      "price    451790.411167\n",
      "dtype: float64\n",
      "price    330000.0\n",
      "dtype: float64\n"
     ]
    }
   ],
   "source": [
    "avg_price=properties[['price']].mean()\n",
    "print(avg_price)\n",
    "median_price=properties[['price']].median()\n",
    "print(median_price)\n"
   ]
  },
  {
   "cell_type": "code",
   "execution_count": 26,
   "metadata": {},
   "outputs": [],
   "source": [
    "#Splitting the Data into Training and Testing Sets\n",
    "\n",
    "#Split the data into training and testing sets to validate the model’s performance.\n",
    "\n",
    "# Define features and target\n",
    "\n",
    "X = properties.drop(columns=['price'])  \n",
    "\n",
    "y = properties['price']  # 'price' is the target variable\n",
    "\n",
    "\n",
    "\n",
    "# Split into training and testing sets\n",
    "\n",
    "X_train, X_test, y_train, y_test = train_test_split(X, y, test_size=0.2, random_state=42)"
   ]
  },
  {
   "cell_type": "code",
   "execution_count": 27,
   "metadata": {},
   "outputs": [],
   "source": [
    "with open(\"data/cleaned/properties.csv\", \"wb\") as csv_file:\n",
    "    pd.DataFrame.to_csv(properties, csv_file, index=False)"
   ]
  }
 ],
 "metadata": {
  "kernelspec": {
   "display_name": "Python 3",
   "language": "python",
   "name": "python3"
  },
  "language_info": {
   "codemirror_mode": {
    "name": "ipython",
    "version": 3
   },
   "file_extension": ".py",
   "mimetype": "text/x-python",
   "name": "python",
   "nbconvert_exporter": "python",
   "pygments_lexer": "ipython3",
   "version": "3.12.7"
  }
 },
 "nbformat": 4,
 "nbformat_minor": 2
}
